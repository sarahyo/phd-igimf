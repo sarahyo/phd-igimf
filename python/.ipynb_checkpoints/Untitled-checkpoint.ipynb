{
 "cells": [
  {
   "cell_type": "code",
   "execution_count": 49,
   "metadata": {},
   "outputs": [
    {
     "name": "stdout",
     "output_type": "stream",
     "text": [
      "                Mini\n",
      "logAge              \n",
      "2.00000   135.528793\n",
      "8.00000     5.005450\n",
      "8.30103     3.912308\n",
      "8.47712     3.413896\n",
      "8.60206     3.104562\n",
      "...              ...\n",
      "9.98227     1.077393\n",
      "9.98677     1.074350\n",
      "9.99123     1.071315\n",
      "9.99563     1.068281\n",
      "10.00000    1.065287\n",
      "\n",
      "[101 rows x 1 columns]\n"
     ]
    }
   ],
   "source": [
    "import pandas as pd\n",
    "import matplotlib.pyplot as plt\n",
    "from matplotlib import pyplot as plt\n",
    "import numpy as np\n",
    "file = 'linear-output427014473899.dat'\n",
    "data = pd.read_csv(open(file,'r'),comment='#',sep='\\s+',usecols=range(2,4),\n",
    "                   names=['logAge', 'Mini'])\n",
    "data_lt150 = data[data['Mini'] < 150]\n",
    "mmax = data_lt150.groupby('logAge').aggregate('max')\n",
    "print(mmax)\n",
    "mini = [i for i in data_lt150[data_lt150['logAge'] == 2.0]['Mini']]"
   ]
  },
  {
   "cell_type": "code",
   "execution_count": 26,
   "metadata": {},
   "outputs": [],
   "source": [
    "data.to_csv('/home/sarah/data.txt', sep=' ', header=False, index=False)\n",
    "mmax = data_lt150.groupby('logAge').aggregate('max').reset_index()"
   ]
  },
  {
   "cell_type": "code",
   "execution_count": 5,
   "metadata": {},
   "outputs": [],
   "source": [
    "mmax.reset_index().to_csv('/home/sarah/padinp.txt', sep=' ', header=False, index=False)"
   ]
  },
  {
   "cell_type": "code",
   "execution_count": 19,
   "metadata": {},
   "outputs": [],
   "source": [
    "file2 = 'IGIMFS'\n",
    "data2 = pd.read_csv(open(file2,'r'),sep='\\s+',names=['mf','IGIMF1','IGIMF2','IGIMF3'])"
   ]
  },
  {
   "cell_type": "code",
   "execution_count": 20,
   "metadata": {},
   "outputs": [
    {
     "data": {
      "text/html": [
       "<div>\n",
       "<style scoped>\n",
       "    .dataframe tbody tr th:only-of-type {\n",
       "        vertical-align: middle;\n",
       "    }\n",
       "\n",
       "    .dataframe tbody tr th {\n",
       "        vertical-align: top;\n",
       "    }\n",
       "\n",
       "    .dataframe thead th {\n",
       "        text-align: right;\n",
       "    }\n",
       "</style>\n",
       "<table border=\"1\" class=\"dataframe\">\n",
       "  <thead>\n",
       "    <tr style=\"text-align: right;\">\n",
       "      <th></th>\n",
       "      <th>mf</th>\n",
       "      <th>IGIMF1</th>\n",
       "      <th>IGIMF2</th>\n",
       "      <th>IGIMF3</th>\n",
       "    </tr>\n",
       "  </thead>\n",
       "  <tbody>\n",
       "    <tr>\n",
       "      <th>0</th>\n",
       "      <td>0.091201</td>\n",
       "      <td>363.855194</td>\n",
       "      <td>263.951294</td>\n",
       "      <td>263.951294</td>\n",
       "    </tr>\n",
       "    <tr>\n",
       "      <th>1</th>\n",
       "      <td>0.095499</td>\n",
       "      <td>342.711517</td>\n",
       "      <td>248.613007</td>\n",
       "      <td>248.613007</td>\n",
       "    </tr>\n",
       "    <tr>\n",
       "      <th>2</th>\n",
       "      <td>0.100000</td>\n",
       "      <td>322.796295</td>\n",
       "      <td>234.165848</td>\n",
       "      <td>234.165848</td>\n",
       "    </tr>\n",
       "    <tr>\n",
       "      <th>3</th>\n",
       "      <td>0.104713</td>\n",
       "      <td>304.038391</td>\n",
       "      <td>220.558487</td>\n",
       "      <td>220.558487</td>\n",
       "    </tr>\n",
       "    <tr>\n",
       "      <th>4</th>\n",
       "      <td>0.109648</td>\n",
       "      <td>286.370850</td>\n",
       "      <td>207.741547</td>\n",
       "      <td>207.741547</td>\n",
       "    </tr>\n",
       "  </tbody>\n",
       "</table>\n",
       "</div>"
      ],
      "text/plain": [
       "         mf      IGIMF1      IGIMF2      IGIMF3\n",
       "0  0.091201  363.855194  263.951294  263.951294\n",
       "1  0.095499  342.711517  248.613007  248.613007\n",
       "2  0.100000  322.796295  234.165848  234.165848\n",
       "3  0.104713  304.038391  220.558487  220.558487\n",
       "4  0.109648  286.370850  207.741547  207.741547"
      ]
     },
     "execution_count": 20,
     "metadata": {},
     "output_type": "execute_result"
    }
   ],
   "source": [
    "data2.head()"
   ]
  },
  {
   "cell_type": "code",
   "execution_count": 23,
   "metadata": {},
   "outputs": [
    {
     "data": {
      "text/plain": [
       "0       0.091201\n",
       "1       0.095499\n",
       "2       0.100000\n",
       "3       0.104713\n",
       "4       0.109648\n",
       "         ...    \n",
       "116    19.054600\n",
       "117    19.952616\n",
       "118    20.892952\n",
       "119    21.877605\n",
       "120    22.908678\n",
       "Name: mf, Length: 121, dtype: float64"
      ]
     },
     "execution_count": 23,
     "metadata": {},
     "output_type": "execute_result"
    }
   ],
   "source": [
    "data2['mf']"
   ]
  },
  {
   "cell_type": "code",
   "execution_count": 28,
   "metadata": {},
   "outputs": [
    {
     "data": {
      "text/plain": [
       "False"
      ]
     },
     "execution_count": 28,
     "metadata": {},
     "output_type": "execute_result"
    }
   ],
   "source": [
    "data2['mf'][0] > mmax['Mini'][0]"
   ]
  },
  {
   "cell_type": "code",
   "execution_count": 30,
   "metadata": {},
   "outputs": [
    {
     "data": {
      "text/html": [
       "<div>\n",
       "<style scoped>\n",
       "    .dataframe tbody tr th:only-of-type {\n",
       "        vertical-align: middle;\n",
       "    }\n",
       "\n",
       "    .dataframe tbody tr th {\n",
       "        vertical-align: top;\n",
       "    }\n",
       "\n",
       "    .dataframe thead th {\n",
       "        text-align: right;\n",
       "    }\n",
       "</style>\n",
       "<table border=\"1\" class=\"dataframe\">\n",
       "  <thead>\n",
       "    <tr style=\"text-align: right;\">\n",
       "      <th></th>\n",
       "      <th>logAge</th>\n",
       "      <th>Mini</th>\n",
       "    </tr>\n",
       "  </thead>\n",
       "  <tbody>\n",
       "    <tr>\n",
       "      <th>0</th>\n",
       "      <td>2.0</td>\n",
       "      <td>0.100000</td>\n",
       "    </tr>\n",
       "    <tr>\n",
       "      <th>1</th>\n",
       "      <td>2.0</td>\n",
       "      <td>0.116273</td>\n",
       "    </tr>\n",
       "    <tr>\n",
       "      <th>2</th>\n",
       "      <td>2.0</td>\n",
       "      <td>0.120000</td>\n",
       "    </tr>\n",
       "    <tr>\n",
       "      <th>3</th>\n",
       "      <td>2.0</td>\n",
       "      <td>0.140000</td>\n",
       "    </tr>\n",
       "    <tr>\n",
       "      <th>4</th>\n",
       "      <td>2.0</td>\n",
       "      <td>0.160000</td>\n",
       "    </tr>\n",
       "    <tr>\n",
       "      <th>...</th>\n",
       "      <td>...</td>\n",
       "      <td>...</td>\n",
       "    </tr>\n",
       "    <tr>\n",
       "      <th>35542</th>\n",
       "      <td>10.0</td>\n",
       "      <td>1.065287</td>\n",
       "    </tr>\n",
       "    <tr>\n",
       "      <th>35543</th>\n",
       "      <td>10.0</td>\n",
       "      <td>1.065287</td>\n",
       "    </tr>\n",
       "    <tr>\n",
       "      <th>35544</th>\n",
       "      <td>10.0</td>\n",
       "      <td>1.065287</td>\n",
       "    </tr>\n",
       "    <tr>\n",
       "      <th>35545</th>\n",
       "      <td>10.0</td>\n",
       "      <td>1.065287</td>\n",
       "    </tr>\n",
       "    <tr>\n",
       "      <th>35546</th>\n",
       "      <td>10.0</td>\n",
       "      <td>1.065287</td>\n",
       "    </tr>\n",
       "  </tbody>\n",
       "</table>\n",
       "<p>35547 rows × 2 columns</p>\n",
       "</div>"
      ],
      "text/plain": [
       "       logAge      Mini\n",
       "0         2.0  0.100000\n",
       "1         2.0  0.116273\n",
       "2         2.0  0.120000\n",
       "3         2.0  0.140000\n",
       "4         2.0  0.160000\n",
       "...       ...       ...\n",
       "35542    10.0  1.065287\n",
       "35543    10.0  1.065287\n",
       "35544    10.0  1.065287\n",
       "35545    10.0  1.065287\n",
       "35546    10.0  1.065287\n",
       "\n",
       "[35547 rows x 2 columns]"
      ]
     },
     "execution_count": 30,
     "metadata": {},
     "output_type": "execute_result"
    }
   ],
   "source": [
    "data"
   ]
  },
  {
   "cell_type": "code",
   "execution_count": 29,
   "metadata": {},
   "outputs": [
    {
     "data": {
      "text/html": [
       "<div>\n",
       "<style scoped>\n",
       "    .dataframe tbody tr th:only-of-type {\n",
       "        vertical-align: middle;\n",
       "    }\n",
       "\n",
       "    .dataframe tbody tr th {\n",
       "        vertical-align: top;\n",
       "    }\n",
       "\n",
       "    .dataframe thead th {\n",
       "        text-align: right;\n",
       "    }\n",
       "</style>\n",
       "<table border=\"1\" class=\"dataframe\">\n",
       "  <thead>\n",
       "    <tr style=\"text-align: right;\">\n",
       "      <th></th>\n",
       "      <th>logAge</th>\n",
       "      <th>Mini</th>\n",
       "    </tr>\n",
       "  </thead>\n",
       "  <tbody>\n",
       "    <tr>\n",
       "      <th>0</th>\n",
       "      <td>2.00000</td>\n",
       "      <td>135.528793</td>\n",
       "    </tr>\n",
       "    <tr>\n",
       "      <th>1</th>\n",
       "      <td>8.00000</td>\n",
       "      <td>5.005450</td>\n",
       "    </tr>\n",
       "    <tr>\n",
       "      <th>2</th>\n",
       "      <td>8.30103</td>\n",
       "      <td>3.912308</td>\n",
       "    </tr>\n",
       "    <tr>\n",
       "      <th>3</th>\n",
       "      <td>8.47712</td>\n",
       "      <td>3.413896</td>\n",
       "    </tr>\n",
       "    <tr>\n",
       "      <th>4</th>\n",
       "      <td>8.60206</td>\n",
       "      <td>3.104562</td>\n",
       "    </tr>\n",
       "    <tr>\n",
       "      <th>...</th>\n",
       "      <td>...</td>\n",
       "      <td>...</td>\n",
       "    </tr>\n",
       "    <tr>\n",
       "      <th>96</th>\n",
       "      <td>9.98227</td>\n",
       "      <td>1.077393</td>\n",
       "    </tr>\n",
       "    <tr>\n",
       "      <th>97</th>\n",
       "      <td>9.98677</td>\n",
       "      <td>1.074350</td>\n",
       "    </tr>\n",
       "    <tr>\n",
       "      <th>98</th>\n",
       "      <td>9.99123</td>\n",
       "      <td>1.071315</td>\n",
       "    </tr>\n",
       "    <tr>\n",
       "      <th>99</th>\n",
       "      <td>9.99563</td>\n",
       "      <td>1.068281</td>\n",
       "    </tr>\n",
       "    <tr>\n",
       "      <th>100</th>\n",
       "      <td>10.00000</td>\n",
       "      <td>1.065287</td>\n",
       "    </tr>\n",
       "  </tbody>\n",
       "</table>\n",
       "<p>101 rows × 2 columns</p>\n",
       "</div>"
      ],
      "text/plain": [
       "       logAge        Mini\n",
       "0     2.00000  135.528793\n",
       "1     8.00000    5.005450\n",
       "2     8.30103    3.912308\n",
       "3     8.47712    3.413896\n",
       "4     8.60206    3.104562\n",
       "..        ...         ...\n",
       "96    9.98227    1.077393\n",
       "97    9.98677    1.074350\n",
       "98    9.99123    1.071315\n",
       "99    9.99563    1.068281\n",
       "100  10.00000    1.065287\n",
       "\n",
       "[101 rows x 2 columns]"
      ]
     },
     "execution_count": 29,
     "metadata": {},
     "output_type": "execute_result"
    }
   ],
   "source": [
    "mmax"
   ]
  },
  {
   "cell_type": "code",
   "execution_count": 43,
   "metadata": {},
   "outputs": [],
   "source": [
    "IGIMF1 = {row['mf'] : row['IGIMF1'] for index, row in data2.iterrows()}"
   ]
  },
  {
   "cell_type": "code",
   "execution_count": 44,
   "metadata": {},
   "outputs": [
    {
     "data": {
      "text/plain": [
       "{0.091201067: 363.855194,\n",
       " 0.0954992399: 342.711517,\n",
       " 0.10000000099999999: 322.79629500000004,\n",
       " 0.104712851: 304.038391,\n",
       " 0.10964781: 286.37085,\n",
       " 0.114815347: 269.729523,\n",
       " 0.12022642: 254.055603,\n",
       " 0.125892535: 239.292175,\n",
       " 0.13182565599999999: 225.38687099999999,\n",
       " 0.138038427: 212.289551,\n",
       " 0.144543961: 199.95326200000002,\n",
       " 0.151356101: 188.334,\n",
       " 0.15848928699999998: 177.389709,\n",
       " 0.165958658: 167.08149699999998,\n",
       " 0.17378006899999998: 157.372375,\n",
       " 0.181970075: 148.227448,\n",
       " 0.19054606600000001: 139.6138,\n",
       " 0.199526206: 131.500854,\n",
       " 0.208929583: 123.85921499999999,\n",
       " 0.218776122: 116.66176599999999,\n",
       " 0.22908674199999998: 109.882469,\n",
       " 0.239883259: 103.497192,\n",
       " 0.251188636: 97.48295590000001,\n",
       " 0.26302677399999996: 91.818161,\n",
       " 0.27542284100000003: 86.4825821,\n",
       " 0.28840309399999997: 81.4569855,\n",
       " 0.301995158: 76.7235107,\n",
       " 0.316227734: 72.2651291,\n",
       " 0.331131071: 68.06575009999999,\n",
       " 0.346736819: 64.1104279,\n",
       " 0.36307799799999996: 60.38492579999999,\n",
       " 0.38018932899999996: 56.8759346,\n",
       " 0.398107141: 53.5708885,\n",
       " 0.41686934200000003: 50.457820899999994,\n",
       " 0.436515749: 47.52570720000001,\n",
       " 0.45708814299999995: 44.763958,\n",
       " 0.47863003600000004: 42.1627159,\n",
       " 0.501187146: 39.6185455,\n",
       " 0.524807334: 35.6368141,\n",
       " 0.549540818: 32.0552177,\n",
       " 0.57543987: 28.833581899999995,\n",
       " 0.6025594470000001: 25.9357471,\n",
       " 0.630957246: 23.329153100000003,\n",
       " 0.660693347: 20.984506600000003,\n",
       " 0.691830814: 18.8755169,\n",
       " 0.724435866: 16.9784737,\n",
       " 0.758577466: 15.272109,\n",
       " 0.794328094: 13.7372274,\n",
       " 0.831763685: 12.356596000000001,\n",
       " 0.8709634540000001: 11.1147251,\n",
       " 0.91201067: 9.99766922,\n",
       " 0.954992354: 8.99288273,\n",
       " 0.999999702: 8.08907318,\n",
       " 1.04712856: 7.27610111,\n",
       " 1.0964781: 6.54483414,\n",
       " 1.14815342: 5.88706207,\n",
       " 1.20226419: 5.29540396,\n",
       " 1.25892508: 4.76320314,\n",
       " 1.31825638: 4.2844882,\n",
       " 1.38038421: 3.85388494,\n",
       " 1.4454397: 3.46655869,\n",
       " 1.51356101: 3.11529589,\n",
       " 1.58489299: 2.79572082,\n",
       " 1.65958655: 2.50887394,\n",
       " 1.73780036: 2.25141287,\n",
       " 1.81970036: 2.02032447,\n",
       " 1.9054606: 1.81291366,\n",
       " 1.99526215: 1.62596691,\n",
       " 2.08929586: 1.45896959,\n",
       " 2.18776131: 1.30909324,\n",
       " 2.29086709: 1.17458546,\n",
       " 2.39883232: 1.05387282,\n",
       " 2.51188636: 0.9455425740000001,\n",
       " 2.63026762: 0.8483281140000001,\n",
       " 2.75422835: 0.7610895040000001,\n",
       " 2.88403106: 0.6831642990000001,\n",
       " 3.01995111: 0.612882316,\n",
       " 3.16227674: 0.549816906,\n",
       " 3.31131005: 0.493228137,\n",
       " 3.46736813: 0.442451894,\n",
       " 3.63077998: 0.396892399,\n",
       " 3.80189323: 0.356014758,\n",
       " 3.98107076: 0.319518089,\n",
       " 4.16869259: 0.286594927,\n",
       " 4.36515713: 0.257057518,\n",
       " 4.57088137: 0.23055751600000002,\n",
       " 4.78630018: 0.20690444100000002,\n",
       " 5.01187134: 0.185564995,\n",
       " 5.24807358: 0.166421771,\n",
       " 5.49540758: 0.149248943,\n",
       " 5.75439787: 0.133925334,\n",
       " 6.02559566: 0.120099105,\n",
       " 6.3095727: 0.107697025,\n",
       " 6.60693359: 0.09663300960000001,\n",
       " 6.91830826: 0.0866492167,\n",
       " 7.24435806: 0.07769455759999999,\n",
       " 7.58577347: 0.0697076991,\n",
       " 7.94327974: 0.0625001639,\n",
       " 8.31763649: 0.056035902400000004,\n",
       " 8.70963478: 0.0502718352,\n",
       " 9.1201067: 0.0450696051,\n",
       " 9.5499239: 0.0404043496,\n",
       " 9.99999714: 0.0362453833,\n",
       " 10.471282: 0.032491497700000004,\n",
       " 10.964777900000001: 0.029125340299999997,\n",
       " 11.4815311: 0.0261252839,\n",
       " 12.022639300000002: 0.0234171301,\n",
       " 12.589254400000002: 0.020988905800000002,\n",
       " 13.1825676: 0.0188253708,\n",
       " 13.803842499999998: 0.0168721415,\n",
       " 14.4543962: 0.0151209999,\n",
       " 15.1356106: 0.0135611417,\n",
       " 15.8489294: 0.0121527752,\n",
       " 16.5958652: 0.010890240800000001,\n",
       " 17.378004100000002: 0.009765929540000001,\n",
       " 18.1970024: 0.0087507125,\n",
       " 19.054599800000002: 0.007840693000000001,\n",
       " 19.9526157: 0.007030562959999999,\n",
       " 20.892951999999998: 0.0062989471499999995,\n",
       " 21.877605399999997: 0.00564321317,\n",
       " 22.908678100000003: 0.0050555183600000005}"
      ]
     },
     "execution_count": 44,
     "metadata": {},
     "output_type": "execute_result"
    }
   ],
   "source": [
    "IGIMF1"
   ]
  },
  {
   "cell_type": "code",
   "execution_count": 45,
   "metadata": {},
   "outputs": [],
   "source": [
    "PDMF_DICT = {}\n",
    "REMM_DICT = {}\n",
    "for k in range(len(mmax)):\n",
    "    PDMF = {}\n",
    "    for i in mmax['Mini']:\n",
    "        for j in data2['mf']:\n",
    "            if i > j:\n",
    "                PDMF[j] = IGIMF[j]\n",
    "            else:\n",
    "                PDMF[j] = 0.0\n",
    "                if i not in REMM_DICT:\n",
    "                    REMM_DICT[i] = 0.0\n",
    "                if j >= 40.0:\n",
    "                    REMM_DICT[i] += 0.5*j\n",
    "                elif j >= 8.5 and j < 40.0:\n",
    "                    REMM_DICT[i] += 1.4\n",
    "                elif j < 8.5:\n",
    "                    REMM_DICT[i] += (0.077*j)+0.48\n",
    "    PDMF_DICT[mmax.iloc[k]['logAge']] = PDMF           \n",
    "            "
   ]
  },
  {
   "cell_type": "code",
   "execution_count": 55,
   "metadata": {},
   "outputs": [
    {
     "data": {
      "text/plain": [
       "[363.855194,\n",
       " 342.711517,\n",
       " 322.79629500000004,\n",
       " 304.038391,\n",
       " 286.37085,\n",
       " 269.729523,\n",
       " 254.055603,\n",
       " 239.292175,\n",
       " 225.38687099999999,\n",
       " 212.289551,\n",
       " 199.95326200000002,\n",
       " 188.334,\n",
       " 177.389709,\n",
       " 167.08149699999998,\n",
       " 157.372375,\n",
       " 148.227448,\n",
       " 139.6138,\n",
       " 131.500854,\n",
       " 123.85921499999999,\n",
       " 116.66176599999999,\n",
       " 109.882469,\n",
       " 103.497192,\n",
       " 97.48295590000001,\n",
       " 91.818161,\n",
       " 86.4825821,\n",
       " 81.4569855,\n",
       " 76.7235107,\n",
       " 72.2651291,\n",
       " 68.06575009999999,\n",
       " 64.1104279,\n",
       " 60.38492579999999,\n",
       " 56.8759346,\n",
       " 53.5708885,\n",
       " 50.457820899999994,\n",
       " 47.52570720000001,\n",
       " 44.763958,\n",
       " 42.1627159,\n",
       " 39.6185455,\n",
       " 35.6368141,\n",
       " 32.0552177,\n",
       " 28.833581899999995,\n",
       " 25.9357471,\n",
       " 23.329153100000003,\n",
       " 20.984506600000003,\n",
       " 18.8755169,\n",
       " 16.9784737,\n",
       " 15.272109,\n",
       " 13.7372274,\n",
       " 12.356596000000001,\n",
       " 11.1147251,\n",
       " 9.99766922,\n",
       " 8.99288273,\n",
       " 8.08907318,\n",
       " 7.27610111,\n",
       " 0.0,\n",
       " 0.0,\n",
       " 0.0,\n",
       " 0.0,\n",
       " 0.0,\n",
       " 0.0,\n",
       " 0.0,\n",
       " 0.0,\n",
       " 0.0,\n",
       " 0.0,\n",
       " 0.0,\n",
       " 0.0,\n",
       " 0.0,\n",
       " 0.0,\n",
       " 0.0,\n",
       " 0.0,\n",
       " 0.0,\n",
       " 0.0,\n",
       " 0.0,\n",
       " 0.0,\n",
       " 0.0,\n",
       " 0.0,\n",
       " 0.0,\n",
       " 0.0,\n",
       " 0.0,\n",
       " 0.0,\n",
       " 0.0,\n",
       " 0.0,\n",
       " 0.0,\n",
       " 0.0,\n",
       " 0.0,\n",
       " 0.0,\n",
       " 0.0,\n",
       " 0.0,\n",
       " 0.0,\n",
       " 0.0,\n",
       " 0.0,\n",
       " 0.0,\n",
       " 0.0,\n",
       " 0.0,\n",
       " 0.0,\n",
       " 0.0,\n",
       " 0.0,\n",
       " 0.0,\n",
       " 0.0,\n",
       " 0.0,\n",
       " 0.0,\n",
       " 0.0,\n",
       " 0.0,\n",
       " 0.0,\n",
       " 0.0,\n",
       " 0.0,\n",
       " 0.0,\n",
       " 0.0,\n",
       " 0.0,\n",
       " 0.0,\n",
       " 0.0,\n",
       " 0.0,\n",
       " 0.0,\n",
       " 0.0,\n",
       " 0.0,\n",
       " 0.0,\n",
       " 0.0,\n",
       " 0.0,\n",
       " 0.0,\n",
       " 0.0,\n",
       " 0.0]"
      ]
     },
     "execution_count": 55,
     "metadata": {},
     "output_type": "execute_result"
    }
   ],
   "source": [
    "list(PDMF_DICT[2.0].values())"
   ]
  },
  {
   "cell_type": "code",
   "execution_count": 88,
   "metadata": {},
   "outputs": [
    {
     "data": {
      "text/plain": [
       "[2.5609285788161866,\n",
       " 2.5349286993685993,\n",
       " 2.50892854132175,\n",
       " 2.482928425538881,\n",
       " 2.456928808578391,\n",
       " 2.4309284843626844,\n",
       " 2.4049287773811265,\n",
       " 2.378928497151321,\n",
       " 2.3529286143794805,\n",
       " 2.3269286184961,\n",
       " 2.300928493526026,\n",
       " 2.274928730422655,\n",
       " 2.248928421278394,\n",
       " 2.2229283577585544,\n",
       " 2.19692849906494,\n",
       " 2.170928631519026,\n",
       " 2.1449283478547723,\n",
       " 2.118928573253786,\n",
       " 2.09292832319294,\n",
       " 2.066928546397528,\n",
       " 2.040928409221668,\n",
       " 2.0149285670349824,\n",
       " 1.988928689486795,\n",
       " 1.9629285901556575,\n",
       " 1.93692864781668,\n",
       " 1.910928333997708,\n",
       " 1.8849284669826558,\n",
       " 1.8589287828723877,\n",
       " 1.8329286349040144,\n",
       " 1.8069286755577083,\n",
       " 1.780928536982935,\n",
       " 1.7549285461625386,\n",
       " 1.7289288494239556,\n",
       " 1.7029284908993425,\n",
       " 1.6769285880471592,\n",
       " 1.650928479589187,\n",
       " 1.6249285780677252,\n",
       " 1.597898527413555,\n",
       " 1.5518988715535238,\n",
       " 1.5058987306999458,\n",
       " 1.4598985966989,\n",
       " 1.4138987627107182,\n",
       " 1.3678989732269848,\n",
       " 1.3218987622815332,\n",
       " 1.2758988534797115,\n",
       " 1.2298986462459025,\n",
       " 1.183899015040508,\n",
       " 1.137899087426058,\n",
       " 1.09189884761167,\n",
       " 1.045898725781796,\n",
       " 0.9998987637123129,\n",
       " 0.9538989301146761,\n",
       " 0.9078987643971735,\n",
       " 0.8618987254670318,\n",
       " 0.0,\n",
       " 0.0,\n",
       " 0.0,\n",
       " 0.0,\n",
       " 0.0,\n",
       " 0.0,\n",
       " 0.0,\n",
       " 0.0,\n",
       " 0.0,\n",
       " 0.0,\n",
       " 0.0,\n",
       " 0.0,\n",
       " 0.0,\n",
       " 0.0,\n",
       " 0.0,\n",
       " 0.0,\n",
       " 0.0,\n",
       " 0.0,\n",
       " 0.0,\n",
       " 0.0,\n",
       " 0.0,\n",
       " 0.0,\n",
       " 0.0,\n",
       " 0.0,\n",
       " 0.0,\n",
       " 0.0,\n",
       " 0.0,\n",
       " 0.0,\n",
       " 0.0,\n",
       " 0.0,\n",
       " 0.0,\n",
       " 0.0,\n",
       " 0.0,\n",
       " 0.0,\n",
       " 0.0,\n",
       " 0.0,\n",
       " 0.0,\n",
       " 0.0,\n",
       " 0.0,\n",
       " 0.0,\n",
       " 0.0,\n",
       " 0.0,\n",
       " 0.0,\n",
       " 0.0,\n",
       " 0.0,\n",
       " 0.0,\n",
       " 0.0,\n",
       " 0.0,\n",
       " 0.0,\n",
       " 0.0,\n",
       " 0.0,\n",
       " 0.0,\n",
       " 0.0,\n",
       " 0.0,\n",
       " 0.0,\n",
       " 0.0,\n",
       " 0.0,\n",
       " 0.0,\n",
       " 0.0,\n",
       " 0.0,\n",
       " 0.0,\n",
       " 0.0,\n",
       " 0.0,\n",
       " 0.0,\n",
       " 0.0,\n",
       " 0.0,\n",
       " 0.0]"
      ]
     },
     "execution_count": 88,
     "metadata": {},
     "output_type": "execute_result"
    }
   ],
   "source": [
    "keys = sorted((list(PDMF_DICT[8.0].keys())))\n",
    "\n",
    "values = [value for key,value in sorted(list(PDMF_DICT[8.0].items()))]\n",
    "values = [(np.log10(i) for i in values if i != 0]\n",
    "values"
   ]
  },
  {
   "cell_type": "code",
   "execution_count": 89,
   "metadata": {},
   "outputs": [
    {
     "data": {
      "text/plain": [
       "[<matplotlib.lines.Line2D at 0x7fe59fd62b20>]"
      ]
     },
     "execution_count": 89,
     "metadata": {},
     "output_type": "execute_result"
    },
    {
     "data": {
      "image/png": "[encoded data removed]",
      "text/plain": [
       "<Figure size 432x288 with 1 Axes>"
      ]
     },
     "metadata": {
      "needs_background": "light"
     },
     "output_type": "display_data"
    }
   ],
   "source": [
    "# plt.yscale('log')\n",
    "# plt.xscale('log')\n",
    "plt.plot(keys , values)"
   ]
  },
  {
   "cell_type": "code",
   "execution_count": 65,
   "metadata": {},
   "outputs": [
    {
     "name": "stderr",
     "output_type": "stream",
     "text": [
      "<ipython-input-65-1b95cabeccac>:1: RuntimeWarning: divide by zero encountered in log\n",
      "  sorted(np.log(list(PDMF_DICT[2.0].items())))\n"
     ]
    },
    {
     "ename": "ValueError",
     "evalue": "The truth value of an array with more than one element is ambiguous. Use a.any() or a.all()",
     "output_type": "error",
     "traceback": [
      "\u001b[0;31m---------------------------------------------------------------------------\u001b[0m",
      "\u001b[0;31mValueError\u001b[0m                                Traceback (most recent call last)",
      "\u001b[0;32m<ipython-input-65-1b95cabeccac>\u001b[0m in \u001b[0;36m<module>\u001b[0;34m\u001b[0m\n\u001b[0;32m----> 1\u001b[0;31m \u001b[0msorted\u001b[0m\u001b[0;34m(\u001b[0m\u001b[0mnp\u001b[0m\u001b[0;34m.\u001b[0m\u001b[0mlog\u001b[0m\u001b[0;34m(\u001b[0m\u001b[0mlist\u001b[0m\u001b[0;34m(\u001b[0m\u001b[0mPDMF_DICT\u001b[0m\u001b[0;34m[\u001b[0m\u001b[0;36m2.0\u001b[0m\u001b[0;34m]\u001b[0m\u001b[0;34m.\u001b[0m\u001b[0mitems\u001b[0m\u001b[0;34m(\u001b[0m\u001b[0;34m)\u001b[0m\u001b[0;34m)\u001b[0m\u001b[0;34m)\u001b[0m\u001b[0;34m)\u001b[0m\u001b[0;34m\u001b[0m\u001b[0;34m\u001b[0m\u001b[0m\n\u001b[0m",
      "\u001b[0;31mValueError\u001b[0m: The truth value of an array with more than one element is ambiguous. Use a.any() or a.all()"
     ]
    }
   ],
   "source": [
    "sorted(np.log(list(PDMF_DICT[2.0].items())))"
   ]
  },
  {
   "cell_type": "code",
   "execution_count": 36,
   "metadata": {},
   "outputs": [
    {
     "data": {
      "text/plain": [
       "{}"
      ]
     },
     "execution_count": 36,
     "metadata": {},
     "output_type": "execute_result"
    }
   ],
   "source": [
    "IGIMF"
   ]
  },
  {
   "cell_type": "code",
   "execution_count": 37,
   "metadata": {},
   "outputs": [],
   "source": [
    "IGIMF[3.46736813]= 'salam'"
   ]
  },
  {
   "cell_type": "code",
   "execution_count": 38,
   "metadata": {},
   "outputs": [
    {
     "data": {
      "text/plain": [
       "{3.46736813: 'salam'}"
      ]
     },
     "execution_count": 38,
     "metadata": {},
     "output_type": "execute_result"
    }
   ],
   "source": [
    "IGIMF"
   ]
  },
  {
   "cell_type": "code",
   "execution_count": 39,
   "metadata": {},
   "outputs": [],
   "source": [
    "IGIMF[3.63077998] = 'bye'"
   ]
  },
  {
   "cell_type": "code",
   "execution_count": 40,
   "metadata": {},
   "outputs": [
    {
     "data": {
      "text/plain": [
       "{3.46736813: 'salam', 3.63077998: 'bye'}"
      ]
     },
     "execution_count": 40,
     "metadata": {},
     "output_type": "execute_result"
    }
   ],
   "source": [
    "IGIMF"
   ]
  },
  {
   "cell_type": "code",
   "execution_count": null,
   "metadata": {},
   "outputs": [],
   "source": []
  }
 ],
 "metadata": {
  "kernelspec": {
   "display_name": "Python 3",
   "language": "python",
   "name": "python3"
  },
  "language_info": {
   "codemirror_mode": {
    "name": "ipython",
    "version": 3
   },
   "file_extension": ".py",
   "mimetype": "text/x-python",
   "name": "python",
   "nbconvert_exporter": "python",
   "pygments_lexer": "ipython3",
   "version": "3.8.5"
  }
 },
 "nbformat": 4,
 "nbformat_minor": 4
}
