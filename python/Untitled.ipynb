{
 "cells": [
  {
   "cell_type": "code",
   "execution_count": 172,
   "metadata": {},
   "outputs": [],
   "source": [
    "import pandas as pd\n",
    "import matplotlib.pyplot as plt\n",
    "from matplotlib import pyplot as plt\n",
    "import numpy as np\n",
    "file = 'linear-output427014473899.dat'\n",
    "data = pd.read_csv(open(file,'r'),comment='#',sep='\\s+',usecols=range(2,4),\n",
    "                   names=['logAge', 'Mini'])\n",
    "data_lt150 = data[data['Mini'] < 150]\n",
    "mmax = data_lt150.groupby('logAge').aggregate('max').reset_index()\n",
    "# print(mmax)\n",
    "mini = [i for i in data_lt150[data_lt150['logAge'] == 2.0]['Mini']]"
   ]
  },
  {
   "cell_type": "code",
   "execution_count": 173,
   "metadata": {},
   "outputs": [],
   "source": [
    "data.to_csv('/home/sarah/data.txt', sep=' ', header=False, index=False)\n",
    "mmax = data_lt150.groupby('logAge').aggregate('max').reset_index()"
   ]
  },
  {
   "cell_type": "code",
   "execution_count": 174,
   "metadata": {},
   "outputs": [],
   "source": [
    "mmax.reset_index().to_csv('/home/sarah/padinp.txt', sep=' ', header=False, index=False)"
   ]
  },
  {
   "cell_type": "code",
   "execution_count": 175,
   "metadata": {},
   "outputs": [],
   "source": [
    "file2 = 'IGIMFS'\n",
    "data2 = pd.read_csv(open(file2,'r'),sep='\\s+',names=['mf','IGIMF1','IGIMF2','IGIMF3'])\n"
   ]
  },
  {
   "cell_type": "code",
   "execution_count": 176,
   "metadata": {},
   "outputs": [],
   "source": [
    "# data2.head()"
   ]
  },
  {
   "cell_type": "code",
   "execution_count": 177,
   "metadata": {},
   "outputs": [],
   "source": [
    "# data2['mf']"
   ]
  },
  {
   "cell_type": "code",
   "execution_count": 178,
   "metadata": {},
   "outputs": [],
   "source": [
    "# mmax"
   ]
  },
  {
   "cell_type": "code",
   "execution_count": 179,
   "metadata": {},
   "outputs": [],
   "source": [
    "IGIMF1 = {row['mf'] : row['IGIMF1'] for index, row in data2.iterrows()}\n",
    "IGIMF2 = {row['mf'] : row['IGIMF2'] for index, row in data2.iterrows()}\n",
    "IGIMF3 = {row['mf'] : row['IGIMF3'] for index, row in data2.iterrows()}"
   ]
  },
  {
   "cell_type": "code",
   "execution_count": 180,
   "metadata": {},
   "outputs": [],
   "source": [
    "# mmax"
   ]
  },
  {
   "cell_type": "code",
   "execution_count": 181,
   "metadata": {},
   "outputs": [],
   "source": [
    "PDMF_DICT = {}\n",
    "REMM_DICT = {}\n",
    "# for k in range(len(mmax)):\n",
    "\n",
    "for i,row in mmax.iterrows():\n",
    "    mini = row['Mini']\n",
    "    logage = row['logAge']\n",
    "#     print(logage)\n",
    "    PDMF = {}\n",
    "    for j in data2['mf']:\n",
    "        if mini > j:\n",
    "            PDMF[j] = IGIMF1[j]\n",
    "        else:\n",
    "            PDMF[j] = 0.0\n",
    "            if mini not in REMM_DICT:\n",
    "                REMM_DICT[mini] = 0.0\n",
    "            if j >= 40.0:\n",
    "                REMM_DICT[mini] += 0.5*j\n",
    "            elif j >= 8.5 and j < 40.0:\n",
    "                REMM_DICT[mini] += 1.4\n",
    "            elif j < 8.5:\n",
    "                REMM_DICT[mini] += (0.077*j)+0.48\n",
    "    PDMF_DICT[logage] = PDMF           \n",
    "            "
   ]
  },
  {
   "cell_type": "code",
   "execution_count": 182,
   "metadata": {},
   "outputs": [],
   "source": [
    "PDMF_DICT2 = {}\n",
    "REMM_DICT2 = {}\n",
    "# for k in range(len(mmax)):\n",
    "\n",
    "for i,row in mmax.iterrows():\n",
    "    mini = row['Mini']\n",
    "    logage = row['logAge']\n",
    "#     print(logage)\n",
    "    PDMF2 = {}\n",
    "    for j in data2['mf']:\n",
    "        if mini > j:\n",
    "            PDMF2[j] = IGIMF2[j]\n",
    "        else:\n",
    "            PDMF2[j] = 0.0\n",
    "            if mini not in REMM_DICT2:\n",
    "                REMM_DICT2[mini] = 0.0\n",
    "            if j >= 40.0:\n",
    "                REMM_DICT2[mini] += 0.5*j\n",
    "            elif j >= 8.5 and j < 40.0:\n",
    "                REMM_DICT2[mini] += 1.4\n",
    "            elif j < 8.5:\n",
    "                REMM_DICT2[mini] += (0.077*j)+0.48\n",
    "    PDMF_DICT2[logage] = PDMF2           \n",
    "            "
   ]
  },
  {
   "cell_type": "code",
   "execution_count": 183,
   "metadata": {},
   "outputs": [],
   "source": [
    "PDMF_DICT3 = {}\n",
    "REMM_DICT3 = {}\n",
    "# for k in range(len(mmax)):\n",
    "\n",
    "for i,row in mmax.iterrows():\n",
    "    mini = row['Mini']\n",
    "    logage = row['logAge']\n",
    "#     print(logage)\n",
    "    PDMF3 = {}\n",
    "    for j in data2['mf']:\n",
    "        if mini > j:\n",
    "            PDMF3[j] = IGIMF3[j]\n",
    "        else:\n",
    "            PDMF3[j] = 0.0\n",
    "            if mini not in REMM_DICT3:\n",
    "                REMM_DICT3[mini] = 0.0\n",
    "            if j >= 40.0:\n",
    "                REMM_DICT3[mini] += 0.5*j\n",
    "            elif j >= 8.5 and j < 40.0:\n",
    "                REMM_DICT3[mini] += 1.4\n",
    "            elif j < 8.5:\n",
    "                REMM_DICT3[mini] += (0.077*j)+0.48\n",
    "    PDMF_DICT3[logage] = PDMF3           \n",
    "            "
   ]
  },
  {
   "cell_type": "code",
   "execution_count": 184,
   "metadata": {},
   "outputs": [],
   "source": [
    "# PDMF_DICT\n"
   ]
  },
  {
   "cell_type": "code",
   "execution_count": 185,
   "metadata": {},
   "outputs": [],
   "source": [
    "# list(PDMF_DICT.keys())"
   ]
  },
  {
   "cell_type": "code",
   "execution_count": 186,
   "metadata": {
    "scrolled": false
   },
   "outputs": [],
   "source": [
    "# for logage in PDMF_DICT.keys():\n",
    "#     plt.figure()\n",
    "#     keys = sorted((list(PDMF_DICT[logage].keys())))\n",
    "\n",
    "#     values = [value for key,value in sorted(list(PDMF_DICT[logage].items()))]\n",
    "#     values = [np.log10(i) for i in values if i != 0]\n",
    "#     plt.plot(keys[:len(values)] , values)"
   ]
  },
  {
   "cell_type": "code",
   "execution_count": 187,
   "metadata": {},
   "outputs": [],
   "source": [
    "PDMF_SUM = {key: sum([pdmf[key] for pdmf in PDMF_DICT.values()]) for key in PDMF_DICT[2.0].keys()}\n",
    "PDMF_SUM2 = {key: sum([pdmf[key] for pdmf in PDMF_DICT2.values()]) for key in PDMF_DICT2[2.0].keys()}\n",
    "PDMF_SUM3 = {key: sum([pdmf[key] for pdmf in PDMF_DICT3.values()]) for key in PDMF_DICT3[2.0].keys()}"
   ]
  },
  {
   "cell_type": "code",
   "execution_count": 192,
   "metadata": {},
   "outputs": [
    {
     "data": {
      "text/plain": [
       "{0.091201067: 36749.374594000015,\n",
       " 0.0954992399: 34613.863217,\n",
       " 0.10000000099999999: 32602.425795000006,\n",
       " 0.104712851: 30707.877490999916,\n",
       " 0.10964781: 28923.45584999996,\n",
       " 0.114815347: 27242.68182300007,\n",
       " 0.12022642: 25659.61590300004,\n",
       " 0.125892535: 24168.50967499997,\n",
       " 0.13182565599999999: 22764.073970999983,\n",
       " 0.138038427: 21441.24465100003,\n",
       " 0.144543961: 20195.27946200002,\n",
       " 0.151356101: 19021.73400000001,\n",
       " 0.15848928699999998: 17916.360608999956,\n",
       " 0.165958658: 16875.231196999965,\n",
       " 0.17378006899999998: 15894.609875000036,\n",
       " 0.181970075: 14970.972247999976,\n",
       " 0.19054606600000001: 14100.99379999997,\n",
       " 0.199526206: 13281.58625399999,\n",
       " 0.208929583: 12509.780715000026,\n",
       " 0.218776122: 11782.838365999985,\n",
       " 0.22908674199999998: 11098.12936900001,\n",
       " 0.239883259: 10453.216392000006,\n",
       " 0.251188636: 9845.778545900013,\n",
       " 0.26302677399999996: 9273.634261,\n",
       " 0.27542284100000003: 8734.740792100014,\n",
       " 0.28840309399999997: 8227.155535499998,\n",
       " 0.301995158: 7749.074580699988,\n",
       " 0.316227734: 7298.778039100013,\n",
       " 0.331131071: 6874.640760099986,\n",
       " 0.346736819: 6475.153217900009,\n",
       " 0.36307799799999996: 6098.877505800001,\n",
       " 0.38018932899999996: 5744.469394599997,\n",
       " 0.398107141: 5410.659738500004,\n",
       " 0.41686934200000003: 5096.239910900004,\n",
       " 0.436515749: 4800.096427200003,\n",
       " 0.45708814299999995: 4521.159757999996,\n",
       " 0.47863003600000004: 4258.4343058999975,\n",
       " 0.501187146: 4001.4730954999986,\n",
       " 0.524807334: 3599.318224099993,\n",
       " 0.549540818: 3237.5769876999966,\n",
       " 0.57543987: 2912.191771899994,\n",
       " 0.6025594470000001: 2619.510457099999,\n",
       " 0.630957246: 2356.244463099999,\n",
       " 0.660693347: 2119.435166600002,\n",
       " 0.691830814: 1906.4272069000035,\n",
       " 0.724435866: 1714.8258436999997,\n",
       " 0.758577466: 1542.483009,\n",
       " 0.794328094: 1387.4599674,\n",
       " 0.831763685: 1248.0161960000007,\n",
       " 0.8709634540000001: 1122.587235099999,\n",
       " 0.91201067: 1009.7645912200012,\n",
       " 0.954992354: 908.2811557300013,\n",
       " 0.999999702: 816.9963911800012,\n",
       " 1.04712856: 734.8862121100011,\n",
       " 1.0964781: 595.5799067399997,\n",
       " 1.14815342: 453.3037793900007,\n",
       " 1.20226419: 349.4966613599995,\n",
       " 1.25892508: 276.2657821199999,\n",
       " 1.31825638: 214.22440999999995,\n",
       " 1.38038421: 169.57093736,\n",
       " 1.4454397: 131.72923022,\n",
       " 1.51356101: 102.80476436999997,\n",
       " 1.58489299: 81.07590378,\n",
       " 1.65958655: 65.23072244000001,\n",
       " 1.73780036: 51.78249601000002,\n",
       " 1.81970036: 42.42681386999998,\n",
       " 1.9054606: 32.63244588,\n",
       " 1.99526215: 26.015470559999997,\n",
       " 2.08929586: 20.425574259999998,\n",
       " 2.18776131: 15.709118879999997,\n",
       " 2.29086709: 12.920440059999999,\n",
       " 2.39883232: 9.484855380000003,\n",
       " 2.51188636: 7.564340592000001,\n",
       " 2.63026762: 5.9382967980000005,\n",
       " 2.75422835: 4.5665370240000005,\n",
       " 2.88403106: 4.098985794000001,\n",
       " 3.01995111: 3.06441158,\n",
       " 3.16227674: 2.199267624,\n",
       " 3.31131005: 1.972912548,\n",
       " 3.46736813: 1.327355682,\n",
       " 3.63077998: 1.190677197,\n",
       " 3.80189323: 1.068044274,\n",
       " 3.98107076: 0.639036178,\n",
       " 4.16869259: 0.573189854,\n",
       " 4.36515713: 0.514115036,\n",
       " 4.57088137: 0.46111503200000004,\n",
       " 4.78630018: 0.41380888200000004,\n",
       " 5.01187134: 0.185564995,\n",
       " 5.24807358: 0.166421771,\n",
       " 5.49540758: 0.149248943,\n",
       " 5.75439787: 0.133925334,\n",
       " 6.02559566: 0.120099105,\n",
       " 6.3095727: 0.107697025,\n",
       " 6.60693359: 0.09663300960000001,\n",
       " 6.91830826: 0.0866492167,\n",
       " 7.24435806: 0.07769455759999999,\n",
       " 7.58577347: 0.0697076991,\n",
       " 7.94327974: 0.0625001639,\n",
       " 8.31763649: 0.056035902400000004,\n",
       " 8.70963478: 0.0502718352,\n",
       " 9.1201067: 0.0450696051,\n",
       " 9.5499239: 0.0404043496,\n",
       " 9.99999714: 0.0362453833,\n",
       " 10.471282: 0.032491497700000004,\n",
       " 10.964777900000001: 0.029125340299999997,\n",
       " 11.4815311: 0.0261252839,\n",
       " 12.022639300000002: 0.0234171301,\n",
       " 12.589254400000002: 0.020988905800000002,\n",
       " 13.1825676: 0.0188253708,\n",
       " 13.803842499999998: 0.0168721415,\n",
       " 14.4543962: 0.0151209999,\n",
       " 15.1356106: 0.0135611417,\n",
       " 15.8489294: 0.0121527752,\n",
       " 16.5958652: 0.010890240800000001,\n",
       " 17.378004100000002: 0.009765929540000001,\n",
       " 18.1970024: 0.0087507125,\n",
       " 19.054599800000002: 0.007840693000000001,\n",
       " 19.9526157: 0.007030562959999999,\n",
       " 20.892951999999998: 0.0062989471499999995,\n",
       " 21.877605399999997: 0.00564321317,\n",
       " 22.908678100000003: 0.0050555183600000005}"
      ]
     },
     "execution_count": 192,
     "metadata": {},
     "output_type": "execute_result"
    }
   ],
   "source": [
    " PDMF_SUM"
   ]
  },
  {
   "cell_type": "code",
   "execution_count": 189,
   "metadata": {},
   "outputs": [
    {
     "data": {
      "text/plain": [
       "[<matplotlib.lines.Line2D at 0x7fe59dff9460>]"
      ]
     },
     "execution_count": 189,
     "metadata": {},
     "output_type": "execute_result"
    },
    {
     "data": {
      "image/png": "[encoded data removed]",
      "text/plain": [
       "<Figure size 432x288 with 1 Axes>"
      ]
     },
     "metadata": {
      "needs_background": "light"
     },
     "output_type": "display_data"
    }
   ],
   "source": [
    "keys = np.log10(sorted((list(PDMF_SUM.keys()))))\n",
    "\n",
    "values = [value for key,value in sorted(list(PDMF_SUM.items()))]\n",
    "values = [np.log10(i) for i in values if i != 0]\n",
    "plt.plot(keys[:len(values)] , values)\n"
   ]
  },
  {
   "cell_type": "code",
   "execution_count": 198,
   "metadata": {},
   "outputs": [
    {
     "data": {
      "text/plain": [
       "{0.091201067: 26659.080693999964,\n",
       " 0.0954992399: 25109.913706999996,\n",
       " 0.10000000099999999: 23650.75064800003,\n",
       " 0.104712851: 22276.40718699997,\n",
       " 0.10964781: 20981.89624700001,\n",
       " 0.114815347: 19762.652830000006,\n",
       " 0.12022642: 18614.218593999965,\n",
       " 0.125892535: 17532.53879299998,\n",
       " 0.13182565599999999: 16513.725027999975,\n",
       " 0.138038427: 15554.104838000023,\n",
       " 0.144543961: 14650.232204000022,\n",
       " 0.151356101: 13798.920071000019,\n",
       " 0.15848928699999998: 12997.047639999982,\n",
       " 0.165958658: 12241.782971999983,\n",
       " 0.17378006899999998: 11530.414621000016,\n",
       " 0.181970075: 10860.379611000026,\n",
       " 0.19054606600000001: 10229.274445000017,\n",
       " 0.199526206: 9634.84765119998,\n",
       " 0.208929583: 9074.966968100009,\n",
       " 0.218776122: 8547.618930399978,\n",
       " 0.22908674199999998: 8050.912565600012,\n",
       " 0.239883259: 7583.065546899992,\n",
       " 0.251188636: 7142.411121800011,\n",
       " 0.26302677399999996: 6727.365792100013,\n",
       " 0.27542284100000003: 6336.435414299992,\n",
       " 0.28840309399999997: 5968.226794399987,\n",
       " 0.301995158: 5621.402227800015,\n",
       " 0.316227734: 5294.746533000009,\n",
       " 0.331131071: 4987.065718299997,\n",
       " 0.346736819: 4697.264014500002,\n",
       " 0.36307799799999996: 4424.305414100002,\n",
       " 0.38018932899999996: 4167.206278100004,\n",
       " 0.398107141: 3925.049617400005,\n",
       " 0.41686934200000003: 3696.9620142999975,\n",
       " 0.436515749: 3482.1304995999926,\n",
       " 0.45708814299999995: 3279.780665899995,\n",
       " 0.47863003600000004: 3089.192019600008,\n",
       " 0.501187146: 2902.7883285000003,\n",
       " 0.524807334: 2611.0507678000017,\n",
       " 0.549540818: 2348.632396100003,\n",
       " 0.57543987: 2112.589629000002,\n",
       " 0.6025594470000001: 1900.2688228000022,\n",
       " 0.630957246: 1709.2885287999973,\n",
       " 0.660693347: 1537.4996488000024,\n",
       " 0.691830814: 1382.9773753000024,\n",
       " 0.724435866: 1243.9853466,\n",
       " 0.758577466: 1118.9607492999994,\n",
       " 0.794328094: 1006.5026770400009,\n",
       " 0.831763685: 905.3462512700007,\n",
       " 0.8709634540000001: 814.3576742699996,\n",
       " 0.91201067: 732.5131979199988,\n",
       " 0.954992354: 658.8939161399996,\n",
       " 0.999999702: 592.67339744,\n",
       " 1.04712856: 537.2140641300003,\n",
       " 1.0964781: 438.78460262000004,\n",
       " 1.14815342: 336.61666268999977,\n",
       " 1.20226419: 261.62347991999997,\n",
       " 1.25892508: 208.49758394,\n",
       " 1.31825638: 163.01861999999986,\n",
       " 1.38038421: 130.12722976000006,\n",
       " 1.4454397: 101.9533961800001,\n",
       " 1.51356101: 80.15063165999997,\n",
       " 1.58489299: 63.560488709999994,\n",
       " 1.65958655: 51.43613410000003,\n",
       " 1.73780036: 41.08036370999999,\n",
       " 1.81970036: 33.87245001,\n",
       " 1.9054606: 26.22591018,\n",
       " 1.99526215: 21.040689439999998,\n",
       " 2.08929586: 16.6387704,\n",
       " 2.18776131: 12.892534680000004,\n",
       " 2.29086709: 10.686219159000002,\n",
       " 2.39883232: 7.90787691,\n",
       " 2.51188636: 6.3592248,\n",
       " 2.63026762: 5.035254181999999,\n",
       " 2.75422835: 3.9065744879999995,\n",
       " 2.88403106: 3.540371058,\n",
       " 3.01995111: 2.67184943,\n",
       " 3.16227674: 1.9362458,\n",
       " 3.31131005: 1.754415272,\n",
       " 3.46736813: 1.192560822,\n",
       " 3.63077998: 1.081142484,\n",
       " 3.80189323: 0.9803961209999998,\n",
       " 3.98107076: 0.59337598,\n",
       " 4.16869259: 0.5383648879999999,\n",
       " 4.36515713: 0.48858416,\n",
       " 4.57088137: 0.443526774,\n",
       " 4.78630018: 0.403074414,\n",
       " 5.01187134: 0.183048949,\n",
       " 5.24807358: 0.166301131,\n",
       " 5.49540758: 0.151127338,\n",
       " 5.75439787: 0.137485981,\n",
       " 6.02559566: 0.125008017,\n",
       " 6.3095727: 0.113693751,\n",
       " 6.60693359: 0.103512108,\n",
       " 6.91830826: 0.0941938385,\n",
       " 7.24435806: 0.08573791380000001,\n",
       " 7.58577347: 0.0781206861,\n",
       " 7.94327974: 0.071145758,\n",
       " 8.31763649: 0.0648111627,\n",
       " 8.70963478: 0.0590991415,\n",
       " 9.1201067: 0.0538658909,\n",
       " 9.5499239: 0.049109444,\n",
       " 9.99999714: 0.044815953799999995,\n",
       " 10.471282: 0.0408802666,\n",
       " 10.964777900000001: 0.0373002551,\n",
       " 11.4815311: 0.0340653546,\n",
       " 12.022639300000002: 0.0310984403,\n",
       " 12.589254400000002: 0.0283974875,\n",
       " 13.1825676: 0.0259544123,\n",
       " 13.803842499999998: 0.0237124972,\n",
       " 14.4543962: 0.0216699727,\n",
       " 15.1356106: 0.0198204909,\n",
       " 15.8489294: 0.0181224216,\n",
       " 16.5958652: 0.0165741146,\n",
       " 17.378004100000002: 0.0151707167,\n",
       " 18.1970024: 0.0138815269,\n",
       " 19.054599800000002: 0.0127050979,\n",
       " 19.9526157: 0.0116376746,\n",
       " 20.892951999999998: 0.010656626899999999,\n",
       " 21.877605399999997: 0.00976068247,\n",
       " 22.908678100000003: 0.00894222595}"
      ]
     },
     "execution_count": 198,
     "metadata": {},
     "output_type": "execute_result"
    }
   ],
   "source": [
    "PDMF_SUM3"
   ]
  },
  {
   "cell_type": "code",
   "execution_count": 190,
   "metadata": {},
   "outputs": [
    {
     "data": {
      "text/plain": [
       "[<matplotlib.lines.Line2D at 0x7fe59f373760>]"
      ]
     },
     "execution_count": 190,
     "metadata": {},
     "output_type": "execute_result"
    },
    {
     "data": {
      "image/png": "[encoded data removed]",
      "text/plain": [
       "<Figure size 432x288 with 1 Axes>"
      ]
     },
     "metadata": {
      "needs_background": "light"
     },
     "output_type": "display_data"
    }
   ],
   "source": [
    "keys2 = np.log10(sorted((list(PDMF_SUM2.keys()))))\n",
    "\n",
    "values2 = [value for key,value in sorted(list(PDMF_SUM2.items()))]\n",
    "values2 = [np.log10(i) for i in values2 if i != 0]\n",
    "plt.plot(keys2[:len(values2)] , values2)"
   ]
  },
  {
   "cell_type": "code",
   "execution_count": 200,
   "metadata": {},
   "outputs": [
    {
     "data": {
      "text/plain": [
       "[<matplotlib.lines.Line2D at 0x7fe59f48bd60>]"
      ]
     },
     "execution_count": 200,
     "metadata": {},
     "output_type": "execute_result"
    },
    {
     "data": {
      "image/png": "[encoded data removed]",
      "text/plain": [
       "<Figure size 432x288 with 1 Axes>"
      ]
     },
     "metadata": {
      "needs_background": "light"
     },
     "output_type": "display_data"
    }
   ],
   "source": [
    "keys3 = np.log10(sorted((list(PDMF_SUM3.keys()))))\n",
    "\n",
    "values3 = [value for key,value in sorted(list(PDMF_SUM3.items()))]\n",
    "values3 = [np.log10(i) for i in values3 if i != 0]\n",
    "plt.plot(keys3[:len(values3)] , values3)\n",
    "plt.plot(keys[:len(values)] , values)\n",
    "plt.plot(keys2[:len(values2)] , values2)"
   ]
  },
  {
   "cell_type": "code",
   "execution_count": null,
   "metadata": {},
   "outputs": [],
   "source": []
  }
 ],
 "metadata": {
  "kernelspec": {
   "display_name": "Python 3",
   "language": "python",
   "name": "python3"
  },
  "language_info": {
   "codemirror_mode": {
    "name": "ipython",
    "version": 3
   },
   "file_extension": ".py",
   "mimetype": "text/x-python",
   "name": "python",
   "nbconvert_exporter": "python",
   "pygments_lexer": "ipython3",
   "version": "3.8.5"
  }
 },
 "nbformat": 4,
 "nbformat_minor": 4
}
