{
 "cells": [
  {
   "cell_type": "code",
   "execution_count": 22,
   "metadata": {},
   "outputs": [],
   "source": [
    "import pandas as pd\n",
    "import matplotlib.pyplot as plt\n",
    "from matplotlib import pyplot as plt\n",
    "import numpy as np\n",
    "file = 'linear-output427014473899.dat'\n",
    "data = pd.read_csv(open(file,'r'),comment='#',sep='\\s+',usecols=range(2,4),\n",
    "                   names=['logAge', 'Mini'])\n",
    "data_lt150 = data[data['Mini'] < 150]\n",
    "mmax = data_lt150.groupby('logAge').aggregate('max').reset_index()\n",
    "# print(mmax)\n",
    "mini = [i for i in data_lt150[data_lt150['logAge'] == 2.0]['Mini']]"
   ]
  },
  {
   "cell_type": "code",
   "execution_count": 23,
   "metadata": {},
   "outputs": [],
   "source": [
    "data.to_csv('/home/sarah/data.txt', sep=' ', header=False, index=False)\n",
    "mmax = data_lt150.groupby('logAge').aggregate('max').reset_index()"
   ]
  },
  {
   "cell_type": "code",
   "execution_count": 24,
   "metadata": {},
   "outputs": [],
   "source": [
    "mmax.reset_index().to_csv('/home/sarah/padinp.txt', sep=' ', header=False, index=False)"
   ]
  },
  {
   "cell_type": "code",
   "execution_count": 25,
   "metadata": {},
   "outputs": [],
   "source": [
    "file2 = 'IGIMFS'\n",
    "data2 = pd.read_csv(open(file2,'r'),sep='\\s+',names=['mf','IGIMF1','IGIMF2','IGIMF3'])\n"
   ]
  },
  {
   "cell_type": "code",
   "execution_count": 26,
   "metadata": {},
   "outputs": [],
   "source": [
    "# data2.head()"
   ]
  },
  {
   "cell_type": "code",
   "execution_count": 27,
   "metadata": {},
   "outputs": [],
   "source": [
    "# data2['mf']"
   ]
  },
  {
   "cell_type": "code",
   "execution_count": 28,
   "metadata": {},
   "outputs": [],
   "source": [
    "# mmax"
   ]
  },
  {
   "cell_type": "code",
   "execution_count": 29,
   "metadata": {},
   "outputs": [],
   "source": [
    "IGIMF1 = {row['mf'] : row['IGIMF1'] for index, row in data2.iterrows()}\n",
    "IGIMF2 = {row['mf'] : row['IGIMF2'] for index, row in data2.iterrows()}\n",
    "IGIMF3 = {row['mf'] : row['IGIMF3'] for index, row in data2.iterrows()}"
   ]
  },
  {
   "cell_type": "code",
   "execution_count": 30,
   "metadata": {},
   "outputs": [],
   "source": [
    "# mmax"
   ]
  },
  {
   "cell_type": "code",
   "execution_count": 31,
   "metadata": {},
   "outputs": [],
   "source": [
    "PDMF_DICT = {}\n",
    "REMM_DICT = {}\n",
    "# for k in range(len(mmax)):\n",
    "\n",
    "for i,row in mmax.iterrows():\n",
    "    mini = row['Mini']\n",
    "    logage = row['logAge']\n",
    "#     print(logage)\n",
    "    PDMF = {}\n",
    "    for j in data2['mf']:\n",
    "        if mini > j:\n",
    "            PDMF[j] = IGIMF1[j]\n",
    "        else:\n",
    "            PDMF[j] = 0.0\n",
    "            if mini not in REMM_DICT:\n",
    "                REMM_DICT[mini] = 0.0\n",
    "            if j >= 40.0:\n",
    "                REMM_DICT[mini] += 0.5*j\n",
    "            elif j >= 8.5 and j < 40.0:\n",
    "                REMM_DICT[mini] += 1.4\n",
    "            elif j < 8.5:\n",
    "                REMM_DICT[mini] += (0.077*j)+0.48\n",
    "    PDMF_DICT[logage] = PDMF           \n",
    "            "
   ]
  },
  {
   "cell_type": "code",
   "execution_count": 32,
   "metadata": {},
   "outputs": [],
   "source": [
    "PDMF_DICT2 = {}\n",
    "REMM_DICT2 = {}\n",
    "# for k in range(len(mmax)):\n",
    "\n",
    "for i,row in mmax.iterrows():\n",
    "    mini = row['Mini']\n",
    "    logage = row['logAge']\n",
    "#     print(logage)\n",
    "    PDMF2 = {}\n",
    "    for j in data2['mf']:\n",
    "        if mini > j:\n",
    "            PDMF2[j] = IGIMF2[j]\n",
    "        else:\n",
    "            PDMF2[j] = 0.0\n",
    "            if mini not in REMM_DICT2:\n",
    "                REMM_DICT2[mini] = 0.0\n",
    "            if j >= 40.0:\n",
    "                REMM_DICT2[mini] += 0.5*j\n",
    "            elif j >= 8.5 and j < 40.0:\n",
    "                REMM_DICT2[mini] += 1.4\n",
    "            elif j < 8.5:\n",
    "                REMM_DICT2[mini] += (0.077*j)+0.48\n",
    "    PDMF_DICT2[logage] = PDMF2           \n",
    "            "
   ]
  },
  {
   "cell_type": "code",
   "execution_count": 33,
   "metadata": {},
   "outputs": [],
   "source": [
    "PDMF_DICT3 = {}\n",
    "REMM_DICT3 = {}\n",
    "# for k in range(len(mmax)):\n",
    "\n",
    "for i,row in mmax.iterrows():\n",
    "    mini = row['Mini']\n",
    "    logage = row['logAge']\n",
    "#     print(logage)\n",
    "    PDMF3 = {}\n",
    "    for j in data2['mf']:\n",
    "        if mini > j:\n",
    "            PDMF3[j] = IGIMF3[j]\n",
    "        else:\n",
    "            PDMF3[j] = 0.0\n",
    "            if mini not in REMM_DICT3:\n",
    "                REMM_DICT3[mini] = 0.0\n",
    "            if j >= 40.0:\n",
    "                REMM_DICT3[mini] += 0.5*j\n",
    "            elif j >= 8.5 and j < 40.0:\n",
    "                REMM_DICT3[mini] += 1.4\n",
    "            elif j < 8.5:\n",
    "                REMM_DICT3[mini] += (0.077*j)+0.48\n",
    "    PDMF_DICT3[logage] = PDMF3           \n",
    "            "
   ]
  },
  {
   "cell_type": "code",
   "execution_count": 34,
   "metadata": {},
   "outputs": [],
   "source": [
    "# PDMF_DICT\n"
   ]
  },
  {
   "cell_type": "code",
   "execution_count": 35,
   "metadata": {},
   "outputs": [],
   "source": [
    "# list(PDMF_DICT.keys())"
   ]
  },
  {
   "cell_type": "code",
   "execution_count": 36,
   "metadata": {
    "scrolled": false
   },
   "outputs": [],
   "source": [
    "# for logage in PDMF_DICT.keys():\n",
    "#     plt.figure()\n",
    "#     keys = sorted((list(PDMF_DICT[logage].keys())))\n",
    "\n",
    "#     values = [value for key,value in sorted(list(PDMF_DICT[logage].items()))]\n",
    "#     values = [np.log10(i) for i in values if i != 0]\n",
    "#     plt.plot(keys[:len(values)] , values)"
   ]
  },
  {
   "cell_type": "code",
   "execution_count": 37,
   "metadata": {},
   "outputs": [],
   "source": [
    "PDMF_SUM = {key: sum([pdmf[key] for pdmf in PDMF_DICT.values()]) for key in PDMF_DICT[2.0].keys()}\n",
    "PDMF_SUM2 = {key: sum([pdmf[key] for pdmf in PDMF_DICT2.values()]) for key in PDMF_DICT2[2.0].keys()}\n",
    "PDMF_SUM3 = {key: sum([pdmf[key] for pdmf in PDMF_DICT3.values()]) for key in PDMF_DICT3[2.0].keys()}"
   ]
  },
  {
   "cell_type": "code",
   "execution_count": 38,
   "metadata": {},
   "outputs": [
    {
     "data": {
      "text/plain": [
       "{0.091201067: 24350.712261000033,\n",
       " 0.0954992399: 22935.692060000023,\n",
       " 0.10000000099999999: 21602.886868999987,\n",
       " 0.104712851: 20347.54847599999,\n",
       " 0.10964781: 19165.129154,\n",
       " 0.114815347: 18051.442957999996,\n",
       " 0.12022642: 17002.456756000025,\n",
       " 0.125892535: 16014.41637800001,\n",
       " 0.13182565599999999: 15083.829748999964,\n",
       " 0.138038427: 14207.310743000005,\n",
       " 0.144543961: 13381.706341999969,\n",
       " 0.151356101: 12604.09754500002,\n",
       " 0.15848928699999998: 11871.672612999984,\n",
       " 0.165958658: 11181.801607000007,\n",
       " 0.17378006899999998: 10532.027096000005,\n",
       " 0.181970075: 9919.995113399986,\n",
       " 0.19054606600000001: 9343.54103729999,\n",
       " 0.199526206: 8800.592064900007,\n",
       " 0.208929583: 8289.1863217,\n",
       " 0.218776122: 7807.49371800001,\n",
       " 0.22908674199999998: 7353.798193099994,\n",
       " 0.239883259: 6926.465375100005,\n",
       " 0.251188636: 6523.967982400007,\n",
       " 0.26302677399999996: 6144.858513299988,\n",
       " 0.27542284100000003: 5787.776901800009,\n",
       " 0.28840309399999997: 5451.444790899998,\n",
       " 0.301995158: 5134.6612401000075,\n",
       " 0.316227734: 4836.2831112,\n",
       " 0.331131071: 4555.246641900002,\n",
       " 0.346736819: 4290.5396707999935,\n",
       " 0.36307799799999996: 4041.2124949000086,\n",
       " 0.38018932899999996: 3806.3754657999916,\n",
       " 0.398107141: 3585.187152500003,\n",
       " 0.41686934200000003: 3376.849604500007,\n",
       " 0.436515749: 3180.621168699993,\n",
       " 0.45708814299999995: 2995.7925221000028,\n",
       " 0.47863003600000004: 2821.7056093,\n",
       " 0.501187146: 2651.440526400001,\n",
       " 0.524807334: 2384.966257299999,\n",
       " 0.549540818: 2145.2700273000014,\n",
       " 0.57543987: 1929.665640399997,\n",
       " 0.6025594470000001: 1735.729258199997,\n",
       " 0.630957246: 1561.2847043999977,\n",
       " 0.660693347: 1404.3713569000001,\n",
       " 0.691830814: 1263.2293412000001,\n",
       " 0.724435866: 1136.2701292999993,\n",
       " 0.758577466: 1022.0726915999982,\n",
       " 0.794328094: 919.3518222899991,\n",
       " 0.831763685: 826.9551265199982,\n",
       " 0.8709634540000001: 743.8438829200011,\n",
       " 0.91201067: 669.0860867199995,\n",
       " 0.954992354: 601.8412876299991,\n",
       " 0.999999702: 541.35500454,\n",
       " 1.04712856: 486.94749835999943,\n",
       " 1.0964781: 394.6407810799997,\n",
       " 1.14815342: 300.36631702,\n",
       " 1.20226419: 231.00605813999996,\n",
       " 1.25892508: 182.03183710000013,\n",
       " 1.31825638: 140.707803,\n",
       " 1.38038421: 111.02454660000012,\n",
       " 1.4454397: 85.91679198000004,\n",
       " 1.51356101: 66.89647436999999,\n",
       " 1.58489299: 52.70740314000004,\n",
       " 1.65958655: 42.366244439999996,\n",
       " 1.73780036: 33.59979955,\n",
       " 1.81970036: 27.502916700000007,\n",
       " 1.9054606: 21.119203080000005,\n",
       " 1.99526215: 16.828700959999995,\n",
       " 2.08929586: 13.199954992,\n",
       " 2.18776131: 10.142091035999998,\n",
       " 2.29086709: 8.333537157,\n",
       " 2.39883232: 6.1116256710000005,\n",
       " 2.51188636: 4.8693361280000005,\n",
       " 2.63026762: 3.8188436650000006,\n",
       " 2.75422835: 2.933764992,\n",
       " 2.88403106: 2.6293846979999995,\n",
       " 3.01995111: 1.963759215,\n",
       " 3.16227674: 1.407928824,\n",
       " 3.31131005: 1.2617418759999999,\n",
       " 3.46736813: 0.8480239199999999,\n",
       " 3.63077998: 0.759924888,\n",
       " 3.80189323: 0.680957526,\n",
       " 3.98107076: 0.40709716,\n",
       " 4.16869259: 0.36477309399999996,\n",
       " 4.36515713: 0.32683816600000004,\n",
       " 4.57088137: 0.292838842,\n",
       " 4.78630018: 0.26236769600000004,\n",
       " 5.01187134: 0.117529668,\n",
       " 5.24807358: 0.10529308,\n",
       " 5.49540758: 0.0943273231,\n",
       " 5.75439787: 0.0845700279,\n",
       " 6.02559566: 0.07575764509999999,\n",
       " 6.3095727: 0.0678611174,\n",
       " 6.60693359: 0.0607855134,\n",
       " 6.91830826: 0.0544456132,\n",
       " 7.24435806: 0.048765160099999996,\n",
       " 7.58577347: 0.0437135175,\n",
       " 7.94327974: 0.0391501077,\n",
       " 8.31763649: 0.0350617617,\n",
       " 8.70963478: 0.0313991085,\n",
       " 9.1201067: 0.0281179715,\n",
       " 9.5499239: 0.025178700699999997,\n",
       " 9.99999714: 0.022566298,\n",
       " 10.471282: 0.0202058759,\n",
       " 10.964777900000001: 0.018091624599999998,\n",
       " 11.4815311: 0.0161978789,\n",
       " 12.022639300000002: 0.0145017654,\n",
       " 12.589254400000002: 0.0129826823,\n",
       " 13.1825676: 0.0116333673,\n",
       " 13.803842499999998: 0.0104139317,\n",
       " 14.4543962: 0.009321910329999999,\n",
       " 15.1356106: 0.008344000209999999,\n",
       " 15.8489294: 0.007468344179999999,\n",
       " 16.5958652: 0.0066842618400000005,\n",
       " 17.378004100000002: 0.00598221319,\n",
       " 18.1970024: 0.00535364542,\n",
       " 19.054599800000002: 0.00479584094,\n",
       " 19.9526157: 0.0042915456,\n",
       " 20.892951999999998: 0.0038400851200000004,\n",
       " 21.877605399999997: 0.00343594025,\n",
       " 22.908678100000003: 0.00307416613,\n",
       " 23.9883289: 0.0027503438800000005,\n",
       " 25.1188622: 0.00246049836,\n",
       " 26.302677199999998: 0.00220107823,\n",
       " 27.542284000000002: 0.00196890254,\n",
       " 28.840309100000002: 0.0017591319,\n",
       " 30.199510600000004: 0.00157337682,\n",
       " 31.6227684: 0.00140715425,\n",
       " 33.113102000000005: 0.0012584198300000001,\n",
       " 34.6736717: 0.00112533872,\n",
       " 36.3077888: 0.0010050718,\n",
       " 38.0189209: 0.000898660917,\n",
       " 39.8106956: 0.000802487717,\n",
       " 41.686939200000005: 0.0007174230999999999,\n",
       " 43.6515808: 0.000640535029,\n",
       " 45.7088165: 0.000572555407,\n",
       " 47.8630028: 0.0005111020289999999,\n",
       " 50.1187134: 0.00045619968999999997,\n",
       " 52.4807358: 0.00040715272199999997,\n",
       " 54.954074899999995: 0.000363341183,\n",
       " 57.54397579999999: 0.000324209483,\n",
       " 60.255939500000004: 0.000289260643,\n",
       " 63.0957108: 0.00025769294,\n",
       " 66.069313: 0.000229858342,\n",
       " 69.18306729999999: 0.000204713579,\n",
       " 72.4435577: 0.000182289863,\n",
       " 75.85775759999999: 0.000162295109,\n",
       " 79.4328156: 0.000144251477,\n",
       " 83.1763687: 0.000128184169,\n",
       " 87.09634399999999: 0.00011387933000000001,\n",
       " 91.2010651: 0.000100984173,\n",
       " 95.49923709999999: 8.95202174e-05,\n",
       " 99.99996949999999: 7.91979764e-05,\n",
       " 104.712852: 6.99146913e-05,\n",
       " 109.64781200000002: 6.201476939999999e-05,\n",
       " 114.81534599999999: 5.4792322799999993e-05,\n",
       " 120.226425: 4.8387184500000004e-05,\n",
       " 125.892517: 4.25448416e-05,\n",
       " 131.825638: 3.71545102e-05,\n",
       " 138.038391: 0.0,\n",
       " 144.54393000000002: 0.0}"
      ]
     },
     "execution_count": 38,
     "metadata": {},
     "output_type": "execute_result"
    }
   ],
   "source": [
    " PDMF_SUM"
   ]
  },
  {
   "cell_type": "code",
   "execution_count": 39,
   "metadata": {},
   "outputs": [
    {
     "data": {
      "text/plain": [
       "[<matplotlib.lines.Line2D at 0x7f86689bbc10>]"
      ]
     },
     "execution_count": 39,
     "metadata": {},
     "output_type": "execute_result"
    },
    {
     "data": {
      "image/png": "[encoded data removed]",
      "text/plain": [
       "<Figure size 432x288 with 1 Axes>"
      ]
     },
     "metadata": {
      "needs_background": "light"
     },
     "output_type": "display_data"
    }
   ],
   "source": [
    "keys = np.log10(sorted((list(PDMF_SUM.keys()))))\n",
    "\n",
    "values = [value for key,value in sorted(list(PDMF_SUM.items()))]\n",
    "values = [np.log10(i) for i in values if i != 0]\n",
    "plt.plot(keys[:len(values)] , values)\n"
   ]
  },
  {
   "cell_type": "code",
   "execution_count": 40,
   "metadata": {},
   "outputs": [
    {
     "data": {
      "text/plain": [
       "{0.091201067: 44417.289746,\n",
       " 0.0954992399: 41072.623336999975,\n",
       " 0.10000000099999999: 37979.76649200007,\n",
       " 0.104712851: 35119.846451999976,\n",
       " 0.10964781: 32475.226496000058,\n",
       " 0.114815347: 30029.767632000046,\n",
       " 0.12022642: 27768.508730000023,\n",
       " 0.125892535: 25677.482298000028,\n",
       " 0.13182565599999999: 23743.916986999968,\n",
       " 0.138038427: 21955.944590000036,\n",
       " 0.144543961: 20302.613575999996,\n",
       " 0.151356101: 18773.81727900002,\n",
       " 0.15848928699999998: 17360.087050000013,\n",
       " 0.165958658: 16052.875561999961,\n",
       " 0.17378006899999998: 14844.041003000038,\n",
       " 0.181970075: 13726.258449000015,\n",
       " 0.19054606600000001: 12692.64979999998,\n",
       " 0.199526206: 11736.87013500003,\n",
       " 0.208929583: 10853.066908000017,\n",
       " 0.218776122: 10035.812389100001,\n",
       " 0.22908674199999998: 9280.084696699998,\n",
       " 0.239883259: 8581.292027399992,\n",
       " 0.251188636: 7935.096835200021,\n",
       " 0.26302677399999996: 7337.571553299992,\n",
       " 0.27542284100000003: 6785.035165999986,\n",
       " 0.28840309399999997: 6274.115273200005,\n",
       " 0.301995158: 5801.663331200012,\n",
       " 0.316227734: 5364.781609599995,\n",
       " 0.331131071: 4960.8054961,\n",
       " 0.346736819: 4587.251057299995,\n",
       " 0.36307799799999996: 4241.822381400006,\n",
       " 0.38018932899999996: 3922.405417200005,\n",
       " 0.398107141: 3627.037512499992,\n",
       " 0.41686934200000003: 3353.9182514000026,\n",
       " 0.436515749: 3101.361226800004,\n",
       " 0.45708814299999995: 2867.8201084999982,\n",
       " 0.47863003600000004: 2651.8685745000002,\n",
       " 0.501187146: 2446.3724998999996,\n",
       " 0.524807334: 2160.341196799996,\n",
       " 0.549540818: 1907.7550841999996,\n",
       " 0.57543987: 1684.701028199998,\n",
       " 0.6025594470000001: 1487.724949999998,\n",
       " 0.630957246: 1313.7791443000006,\n",
       " 0.660693347: 1160.1722135999998,\n",
       " 0.691830814: 1024.5246484000008,\n",
       " 0.724435866: 904.7379838199988,\n",
       " 0.758577466: 798.9562670900012,\n",
       " 0.794328094: 705.5414095100001,\n",
       " 0.831763685: 623.0486434500008,\n",
       " 0.8709634540000001: 550.2023873900001,\n",
       " 0.91201067: 485.87265130999936,\n",
       " 0.954992354: 429.0640034500004,\n",
       " 0.999999702: 378.8984548499996,\n",
       " 1.04712856: 342.8273087899993,\n",
       " 1.0964781: 279.5009298900001,\n",
       " 1.14815342: 214.02111499999984,\n",
       " 1.20226419: 165.22335126000016,\n",
       " 1.25892508: 130.63677560000014,\n",
       " 1.31825638: 101.34214150000012,\n",
       " 1.38038421: 80.26590307999993,\n",
       " 1.4454397: 62.32864271999994,\n",
       " 1.51356101: 48.733797089999975,\n",
       " 1.58489299: 38.565932169999996,\n",
       " 1.65958655: 31.14170071999998,\n",
       " 1.73780036: 24.816339210000002,\n",
       " 1.81970036: 20.414926539,\n",
       " 1.9054606: 15.751119023999992,\n",
       " 1.99526215: 12.61929608,\n",
       " 2.08929586: 9.954033726,\n",
       " 2.18776131: 7.692852971999998,\n",
       " 2.29086709: 6.359364506,\n",
       " 2.39883232: 4.693091156999999,\n",
       " 2.51188636: 3.763418672,\n",
       " 2.63026762: 2.971315298,\n",
       " 2.75422835: 2.2984825379999996,\n",
       " 2.88403106: 2.074737492,\n",
       " 3.01995111: 1.56094387,\n",
       " 3.16227674: 1.127626656,\n",
       " 3.31131005: 1.018446804,\n",
       " 3.46736813: 0.6900107400000001,\n",
       " 3.63077998: 0.623444439,\n",
       " 3.80189323: 0.563411235,\n",
       " 3.98107076: 0.339843392,\n",
       " 4.16869259: 0.30723986,\n",
       " 4.36515713: 0.277819634,\n",
       " 4.57088137: 0.251267016,\n",
       " 4.78630018: 0.227298394,\n",
       " 5.01187134: 0.102829412,\n",
       " 5.24807358: 0.09305856380000001,\n",
       " 5.49540758: 0.0842335969,\n",
       " 5.75439787: 0.07633224870000001,\n",
       " 6.02559566: 0.06912162150000001,\n",
       " 6.3095727: 0.0626052842,\n",
       " 6.60693359: 0.056715082400000005,\n",
       " 6.91830826: 0.0513899848,\n",
       " 7.24435806: 0.0465746671,\n",
       " 7.58577347: 0.04225678,\n",
       " 7.94327974: 0.0383132622,\n",
       " 8.31763649: 0.0347451232,\n",
       " 8.70963478: 0.0315159932,\n",
       " 9.1201067: 0.0285931416,\n",
       " 9.5499239: 0.0259469058,\n",
       " 9.99999714: 0.0235702712,\n",
       " 10.471282: 0.0213979259,\n",
       " 10.964777900000001: 0.0194299556,\n",
       " 11.4815311: 0.0176467951,\n",
       " 12.022639300000002: 0.0160307195,\n",
       " 12.589254400000002: 0.014565756499999999,\n",
       " 13.1825676: 0.013247918300000001,\n",
       " 13.803842499999998: 0.012042361299999998,\n",
       " 14.4543962: 0.0109488433,\n",
       " 15.1356106: 0.009956757540000001,\n",
       " 15.8489294: 0.00905651599,\n",
       " 16.5958652: 0.00823942292,\n",
       " 17.378004100000002: 0.00749764312,\n",
       " 18.1970024: 0.00682409387,\n",
       " 19.054599800000002: 0.00621683197,\n",
       " 19.9526157: 0.00566069037,\n",
       " 20.892951999999998: 0.0051553868700000005,\n",
       " 21.877605399999997: 0.0046961712700000005,\n",
       " 22.908678100000003: 0.00427874271,\n",
       " 23.9883289: 0.0038992313200000004,\n",
       " 25.1188622: 0.00355411903,\n",
       " 26.302677199999998: 0.00324021745,\n",
       " 27.542284000000002: 0.0029546385600000002,\n",
       " 28.840309100000002: 0.0026930396,\n",
       " 30.199510600000004: 0.00245670229,\n",
       " 31.6227684: 0.00224155281,\n",
       " 33.113102000000005: 0.00204565306,\n",
       " 34.6736717: 0.00186724216,\n",
       " 36.3077888: 0.0017036945800000002,\n",
       " 38.0189209: 0.00155572663,\n",
       " 39.8106956: 0.0014200456200000001,\n",
       " 41.686939200000005: 0.00129722035,\n",
       " 43.6515808: 0.00118456315,\n",
       " 45.7088165: 0.00108252314,\n",
       " 47.8630028: 0.0009889034549999999,\n",
       " 50.1187134: 0.000903559616,\n",
       " 52.4807358: 0.000825744006,\n",
       " 54.954074899999995: 0.0007547766439999999,\n",
       " 57.54397579999999: 0.000690042099,\n",
       " 60.255939500000004: 0.00063098059,\n",
       " 63.0957108: 0.00057678431,\n",
       " 66.069313: 0.000527618511,\n",
       " 69.18306729999999: 0.000482489238,\n",
       " 72.4435577: 0.00044130641600000005,\n",
       " 75.85775759999999: 0.000403716607,\n",
       " 79.4328156: 0.00036922015700000004,\n",
       " 83.1763687: 0.000337738922,\n",
       " 87.09634399999999: 0.000309003604,\n",
       " 91.2010651: 0.00028263553400000003,\n",
       " 95.49923709999999: 0.000258570188,\n",
       " 99.99996949999999: 0.000236493113,\n",
       " 104.712852: 0.000216247121,\n",
       " 109.64781200000002: 0.000198032896,\n",
       " 114.81534599999999: 0.00018117732499999998,\n",
       " 120.226425: 0.00016574314200000002,\n",
       " 125.892517: 0.00015144335300000002,\n",
       " 131.825638: 0.000138096249,\n",
       " 138.038391: 0.0,\n",
       " 144.54393000000002: 0.0}"
      ]
     },
     "execution_count": 40,
     "metadata": {},
     "output_type": "execute_result"
    }
   ],
   "source": [
    "PDMF_SUM3"
   ]
  },
  {
   "cell_type": "code",
   "execution_count": 41,
   "metadata": {},
   "outputs": [
    {
     "data": {
      "text/plain": [
       "[<matplotlib.lines.Line2D at 0x7f8668989cd0>]"
      ]
     },
     "execution_count": 41,
     "metadata": {},
     "output_type": "execute_result"
    },
    {
     "data": {
      "image/png": "[encoded data removed]",
      "text/plain": [
       "<Figure size 432x288 with 1 Axes>"
      ]
     },
     "metadata": {
      "needs_background": "light"
     },
     "output_type": "display_data"
    }
   ],
   "source": [
    "keys2 = np.log10(sorted((list(PDMF_SUM2.keys()))))\n",
    "\n",
    "values2 = [value for key,value in sorted(list(PDMF_SUM2.items()))]\n",
    "values2 = [np.log10(i) for i in values2 if i != 0]\n",
    "plt.plot(keys2[:len(values2)] , values2)"
   ]
  },
  {
   "cell_type": "code",
   "execution_count": 42,
   "metadata": {},
   "outputs": [
    {
     "data": {
      "text/plain": [
       "[<matplotlib.lines.Line2D at 0x7f86688ed640>]"
      ]
     },
     "execution_count": 42,
     "metadata": {},
     "output_type": "execute_result"
    },
    {
     "data": {
      "image/png": "[encoded data removed]",
      "text/plain": [
       "<Figure size 432x288 with 1 Axes>"
      ]
     },
     "metadata": {
      "needs_background": "light"
     },
     "output_type": "display_data"
    }
   ],
   "source": [
    "keys3 = np.log10(sorted((list(PDMF_SUM3.keys()))))\n",
    "\n",
    "values3 = [value for key,value in sorted(list(PDMF_SUM3.items()))]\n",
    "values3 = [np.log10(i) for i in values3 if i != 0]\n",
    "plt.plot(keys3[:len(values3)] , values3)\n",
    "plt.plot(keys[:len(values)] , values)\n",
    "plt.plot(keys2[:len(values2)] , values2)"
   ]
  },
  {
   "cell_type": "code",
   "execution_count": null,
   "metadata": {},
   "outputs": [],
   "source": []
  },
  {
   "cell_type": "code",
   "execution_count": null,
   "metadata": {},
   "outputs": [],
   "source": []
  }
 ],
 "metadata": {
  "kernelspec": {
   "display_name": "Python 3",
   "language": "python",
   "name": "python3"
  },
  "language_info": {
   "codemirror_mode": {
    "name": "ipython",
    "version": 3
   },
   "file_extension": ".py",
   "mimetype": "text/x-python",
   "name": "python",
   "nbconvert_exporter": "python",
   "pygments_lexer": "ipython3",
   "version": "3.8.5"
  }
 },
 "nbformat": 4,
 "nbformat_minor": 4
}
